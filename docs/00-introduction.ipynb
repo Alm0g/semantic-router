{
 "cells": [
  {
   "cell_type": "markdown",
   "metadata": {},
   "source": [
    "[![Open In Colab](https://colab.research.google.com/assets/colab-badge.svg)](https://colab.research.google.com/github/aurelio-labs/semantic-router/blob/main/docs/00-introduction.ipynb) [![Open nbviewer](https://raw.githubusercontent.com/pinecone-io/examples/master/assets/nbviewer-shield.svg)](https://nbviewer.org/github/aurelio-labs/semantic-router/blob/main/docs/00-introduction.ipynb)"
   ]
  },
  {
   "cell_type": "markdown",
   "metadata": {},
   "source": [
    "# Semantic Router Intro"
   ]
  },
  {
   "cell_type": "markdown",
   "metadata": {},
   "source": [
    "The Semantic Router library can be used as a super fast route making layer on top of LLMs. That means rather than waiting on a slow agent to decide what to do, we can use the magic of semantic vector space to make routes. Cutting route making time down from seconds to milliseconds."
   ]
  },
  {
   "cell_type": "markdown",
   "metadata": {},
   "source": [
    "## Getting Started"
   ]
  },
  {
   "cell_type": "markdown",
   "metadata": {},
   "source": [
    "We start by installing the library:"
   ]
  },
  {
   "cell_type": "code",
   "execution_count": 1,
   "metadata": {},
   "outputs": [
    {
     "name": "stderr",
     "output_type": "stream",
     "text": [
      "\n",
      "[notice] A new release of pip is available: 23.1.2 -> 24.0\n",
      "[notice] To update, run: python.exe -m pip install --upgrade pip\n"
     ]
    }
   ],
   "source": [
    "!pip install -qU semantic-router"
   ]
  },
  {
   "cell_type": "markdown",
   "metadata": {},
   "source": [
    "We start by defining a dictionary mapping routes to example phrases that should trigger those routes."
   ]
  },
  {
   "cell_type": "code",
   "execution_count": 3,
   "metadata": {},
   "outputs": [
    {
     "name": "stderr",
     "output_type": "stream",
     "text": [
      "d:\\Program_Installation\\anaconda\\envs\\rag\\Lib\\site-packages\\tqdm\\auto.py:21: TqdmWarning: IProgress not found. Please update jupyter and ipywidgets. See https://ipywidgets.readthedocs.io/en/stable/user_install.html\n",
      "  from .autonotebook import tqdm as notebook_tqdm\n"
     ]
    }
   ],
   "source": [
    "from semantic_router import Route\n",
    "\n",
    "politics = Route(\n",
    "    name=\"politics\",\n",
    "    utterances=[\n",
    "        \"isn't politics the best thing ever\",\n",
    "        \"why don't you tell me about your political opinions\",\n",
    "        \"don't you just love the president\",\n",
    "        \"don't you just hate the president\",\n",
    "        \"they're going to destroy this country!\",\n",
    "        \"they will save the country!\",\n",
    "    ],\n",
    ")"
   ]
  },
  {
   "cell_type": "markdown",
   "metadata": {},
   "source": [
    "Let's define another for good measure:"
   ]
  },
  {
   "cell_type": "code",
   "execution_count": 4,
   "metadata": {},
   "outputs": [],
   "source": [
    "chitchat = Route(\n",
    "    name=\"chitchat\",\n",
    "    utterances=[\n",
    "        \"how's the weather today?\",\n",
    "        \"how are things going?\",\n",
    "        \"lovely weather today\",\n",
    "        \"the weather is horrendous\",\n",
    "        \"let's go to the chippy\",\n",
    "    ],\n",
    ")\n",
    "\n",
    "routes = [politics, chitchat]"
   ]
  },
  {
   "cell_type": "markdown",
   "metadata": {},
   "source": [
    "Now we initialize our embedding model:"
   ]
  },
  {
   "cell_type": "code",
   "execution_count": 5,
   "metadata": {},
   "outputs": [],
   "source": [
    "import os\n",
    "from getpass import getpass\n",
    "from semantic_router.encoders import CohereEncoder, OpenAIEncoder\n",
    "\n",
    "# os.environ[\"COHERE_API_KEY\"] = os.getenv(\"COHERE_API_KEY\") or getpass(\n",
    "#     \"Enter Cohere API Key: \"\n",
    "# )\n",
    "os.environ[\"OPENAI_API_KEY\"] = os.getenv(\"OPENAI_API_KEY\") or getpass(\n",
    "    \"Enter OpenAI API Key: \"\n",
    ")\n",
    "\n",
    "# encoder = CohereEncoder()\n",
    "encoder = OpenAIEncoder()"
   ]
  },
  {
   "cell_type": "markdown",
   "metadata": {},
   "source": [
    "Now we define the `RouteLayer`. When called, the route layer will consume text (a query) and output the category (`Route`) it belongs to — to initialize a `RouteLayer` we need our `encoder` model and a list of `routes`."
   ]
  },
  {
   "cell_type": "code",
   "execution_count": 6,
   "metadata": {},
   "outputs": [
    {
     "name": "stderr",
     "output_type": "stream",
     "text": [
      "\u001b[32m2024-05-02 12:09:30 INFO semantic_router.utils.logger local\u001b[0m\n",
      "\u001b[32m2024-05-02 12:09:30 INFO semantic_router.utils.logger Document 1 length: 34\u001b[0m\n",
      "\u001b[32m2024-05-02 12:09:30 INFO semantic_router.utils.logger Document 1 trunc length: 34\u001b[0m\n",
      "\u001b[32m2024-05-02 12:09:30 INFO semantic_router.utils.logger Document 2 length: 51\u001b[0m\n",
      "\u001b[32m2024-05-02 12:09:30 INFO semantic_router.utils.logger Document 2 trunc length: 51\u001b[0m\n",
      "\u001b[32m2024-05-02 12:09:30 INFO semantic_router.utils.logger Document 3 length: 33\u001b[0m\n",
      "\u001b[32m2024-05-02 12:09:30 INFO semantic_router.utils.logger Document 3 trunc length: 33\u001b[0m\n",
      "\u001b[32m2024-05-02 12:09:30 INFO semantic_router.utils.logger Document 4 length: 33\u001b[0m\n",
      "\u001b[32m2024-05-02 12:09:30 INFO semantic_router.utils.logger Document 4 trunc length: 33\u001b[0m\n",
      "\u001b[32m2024-05-02 12:09:30 INFO semantic_router.utils.logger Document 5 length: 38\u001b[0m\n",
      "\u001b[32m2024-05-02 12:09:30 INFO semantic_router.utils.logger Document 5 trunc length: 38\u001b[0m\n",
      "\u001b[32m2024-05-02 12:09:30 INFO semantic_router.utils.logger Document 6 length: 27\u001b[0m\n",
      "\u001b[32m2024-05-02 12:09:30 INFO semantic_router.utils.logger Document 6 trunc length: 27\u001b[0m\n",
      "\u001b[32m2024-05-02 12:09:30 INFO semantic_router.utils.logger Document 7 length: 24\u001b[0m\n",
      "\u001b[32m2024-05-02 12:09:30 INFO semantic_router.utils.logger Document 7 trunc length: 24\u001b[0m\n",
      "\u001b[32m2024-05-02 12:09:30 INFO semantic_router.utils.logger Document 8 length: 21\u001b[0m\n",
      "\u001b[32m2024-05-02 12:09:30 INFO semantic_router.utils.logger Document 8 trunc length: 21\u001b[0m\n",
      "\u001b[32m2024-05-02 12:09:30 INFO semantic_router.utils.logger Document 9 length: 20\u001b[0m\n",
      "\u001b[32m2024-05-02 12:09:30 INFO semantic_router.utils.logger Document 9 trunc length: 20\u001b[0m\n",
      "\u001b[32m2024-05-02 12:09:30 INFO semantic_router.utils.logger Document 10 length: 25\u001b[0m\n",
      "\u001b[32m2024-05-02 12:09:30 INFO semantic_router.utils.logger Document 10 trunc length: 25\u001b[0m\n",
      "\u001b[32m2024-05-02 12:09:30 INFO semantic_router.utils.logger Document 11 length: 22\u001b[0m\n",
      "\u001b[32m2024-05-02 12:09:30 INFO semantic_router.utils.logger Document 11 trunc length: 22\u001b[0m\n"
     ]
    }
   ],
   "source": [
    "from semantic_router.layer import RouteLayer\n",
    "\n",
    "rl = RouteLayer(encoder=encoder, routes=routes)"
   ]
  },
  {
   "cell_type": "markdown",
   "metadata": {},
   "source": [
    "Now we can test it:"
   ]
  },
  {
   "cell_type": "code",
   "execution_count": 7,
   "metadata": {},
   "outputs": [
    {
     "name": "stderr",
     "output_type": "stream",
     "text": [
      "\u001b[32m2024-05-02 12:09:35 INFO semantic_router.utils.logger Document 1 length: 24\u001b[0m\n",
      "\u001b[32m2024-05-02 12:09:35 INFO semantic_router.utils.logger Document 1 trunc length: 24\u001b[0m\n"
     ]
    },
    {
     "data": {
      "text/plain": [
       "RouteChoice(name='politics', function_call=None, similarity_score=None)"
      ]
     },
     "execution_count": 7,
     "metadata": {},
     "output_type": "execute_result"
    }
   ],
   "source": [
    "rl(\"don't you love politics?\")"
   ]
  },
  {
   "cell_type": "code",
   "execution_count": 8,
   "metadata": {},
   "outputs": [
    {
     "name": "stderr",
     "output_type": "stream",
     "text": [
      "\u001b[32m2024-05-02 12:09:37 INFO semantic_router.utils.logger Document 1 length: 24\u001b[0m\n",
      "\u001b[32m2024-05-02 12:09:37 INFO semantic_router.utils.logger Document 1 trunc length: 24\u001b[0m\n"
     ]
    },
    {
     "data": {
      "text/plain": [
       "RouteChoice(name='chitchat', function_call=None, similarity_score=None)"
      ]
     },
     "execution_count": 8,
     "metadata": {},
     "output_type": "execute_result"
    }
   ],
   "source": [
    "rl(\"how's the weather today?\")"
   ]
  },
  {
   "cell_type": "markdown",
   "metadata": {},
   "source": [
    "Both are classified accurately, what if we send a query that is unrelated to our existing `Route` objects?"
   ]
  },
  {
   "cell_type": "code",
   "execution_count": 9,
   "metadata": {},
   "outputs": [
    {
     "name": "stderr",
     "output_type": "stream",
     "text": [
      "\u001b[32m2024-05-02 12:09:38 INFO semantic_router.utils.logger Document 1 length: 40\u001b[0m\n",
      "\u001b[32m2024-05-02 12:09:38 INFO semantic_router.utils.logger Document 1 trunc length: 40\u001b[0m\n"
     ]
    },
    {
     "data": {
      "text/plain": [
       "RouteChoice(name=None, function_call=None, similarity_score=None)"
      ]
     },
     "execution_count": 9,
     "metadata": {},
     "output_type": "execute_result"
    }
   ],
   "source": [
    "rl(\"I'm interested in learning about llama 2\")"
   ]
  },
  {
   "cell_type": "markdown",
   "metadata": {},
   "source": [
    "We can also retrieve multiple routes with its associated score:"
   ]
  },
  {
   "cell_type": "code",
   "execution_count": 10,
   "metadata": {},
   "outputs": [
    {
     "name": "stderr",
     "output_type": "stream",
     "text": [
      "\u001b[32m2024-05-02 12:09:40 INFO semantic_router.utils.logger Document 1 length: 35\u001b[0m\n",
      "\u001b[32m2024-05-02 12:09:40 INFO semantic_router.utils.logger Document 1 trunc length: 35\u001b[0m\n"
     ]
    },
    {
     "data": {
      "text/plain": [
       "[RouteChoice(name='politics', function_call=None, similarity_score=0.8596186767854487),\n",
       " RouteChoice(name='chitchat', function_call=None, similarity_score=0.8356239688161808)]"
      ]
     },
     "execution_count": 10,
     "metadata": {},
     "output_type": "execute_result"
    }
   ],
   "source": [
    "rl.retrieve_multiple_routes(\"Hi! How are you doing in politics??\")"
   ]
  },
  {
   "cell_type": "code",
   "execution_count": 11,
   "metadata": {},
   "outputs": [
    {
     "name": "stderr",
     "output_type": "stream",
     "text": [
      "\u001b[32m2024-05-02 12:09:42 INFO semantic_router.utils.logger Document 1 length: 40\u001b[0m\n",
      "\u001b[32m2024-05-02 12:09:42 INFO semantic_router.utils.logger Document 1 trunc length: 40\u001b[0m\n"
     ]
    },
    {
     "data": {
      "text/plain": [
       "[]"
      ]
     },
     "execution_count": 11,
     "metadata": {},
     "output_type": "execute_result"
    }
   ],
   "source": [
    "rl.retrieve_multiple_routes(\"I'm interested in learning about llama 2\")"
   ]
  },
  {
   "cell_type": "code",
   "execution_count": null,
   "metadata": {},
   "outputs": [],
   "source": []
  }
 ],
 "metadata": {
  "kernelspec": {
   "display_name": "decision-layer",
   "language": "python",
   "name": "python3"
  },
  "language_info": {
   "codemirror_mode": {
    "name": "ipython",
    "version": 3
   },
   "file_extension": ".py",
   "mimetype": "text/x-python",
   "name": "python",
   "nbconvert_exporter": "python",
   "pygments_lexer": "ipython3",
   "version": "3.11.8"
  }
 },
 "nbformat": 4,
 "nbformat_minor": 2
}
