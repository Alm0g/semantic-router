{
 "cells": [
  {
   "cell_type": "markdown",
   "metadata": {},
   "source": [
    "[![Open In Colab](https://colab.research.google.com/assets/colab-badge.svg)](https://colab.research.google.com/github/aurelio-labs/semantic-router/blob/main/docs/00-introduction.ipynb) [![Open nbviewer](https://raw.githubusercontent.com/pinecone-io/examples/master/assets/nbviewer-shield.svg)](https://nbviewer.org/github/aurelio-labs/semantic-router/blob/main/docs/00-introduction.ipynb)"
   ]
  },
  {
   "cell_type": "markdown",
   "metadata": {},
   "source": [
    "## Install Prerequisites"
   ]
  },
  {
   "cell_type": "code",
   "execution_count": 1,
   "metadata": {},
   "outputs": [
    {
     "name": "stdout",
     "output_type": "stream",
     "text": [
      "Collecting fastembed\n",
      "  Downloading fastembed-0.2.7-py3-none-any.whl (27 kB)\n",
      "Collecting huggingface-hub<0.21,>=0.20 (from fastembed)\n",
      "  Using cached huggingface_hub-0.20.3-py3-none-any.whl (330 kB)\n",
      "Collecting loguru<0.8.0,>=0.7.2 (from fastembed)\n",
      "  Using cached loguru-0.7.2-py3-none-any.whl (62 kB)\n",
      "Requirement already satisfied: numpy>=1.21 in c:\\users\\siraj\\documents\\personal\\work\\aurelio\\virtual environments\\semantic_router_3\\lib\\site-packages (from fastembed) (1.26.4)\n",
      "Collecting onnx<2.0.0,>=1.15.0 (from fastembed)\n",
      "  Downloading onnx-1.16.0-cp311-cp311-win_amd64.whl (14.4 MB)\n",
      "                                              0.0/14.4 MB ? eta -:--:--\n",
      "     --                                       0.8/14.4 MB 16.1 MB/s eta 0:00:01\n",
      "     ----                                     1.6/14.4 MB 16.6 MB/s eta 0:00:01\n",
      "     ---------                                3.3/14.4 MB 23.0 MB/s eta 0:00:01\n",
      "     -----------------                        6.3/14.4 MB 33.5 MB/s eta 0:00:01\n",
      "     --------------------------               9.6/14.4 MB 41.0 MB/s eta 0:00:01\n",
      "     ----------------------------------      12.9/14.4 MB 65.2 MB/s eta 0:00:01\n",
      "     --------------------------------------  14.4/14.4 MB 73.1 MB/s eta 0:00:01\n",
      "     --------------------------------------- 14.4/14.4 MB 59.8 MB/s eta 0:00:00\n",
      "Collecting onnxruntime<2.0.0,>=1.17.0 (from fastembed)\n",
      "  Downloading onnxruntime-1.17.3-cp311-cp311-win_amd64.whl (5.6 MB)\n",
      "                                              0.0/5.6 MB ? eta -:--:--\n",
      "     --------------------------               3.7/5.6 MB 120.6 MB/s eta 0:00:01\n",
      "     ---------------------------------------- 5.6/5.6 MB 71.8 MB/s eta 0:00:00\n",
      "Requirement already satisfied: requests<3.0,>=2.31 in c:\\users\\siraj\\documents\\personal\\work\\aurelio\\virtual environments\\semantic_router_3\\lib\\site-packages (from fastembed) (2.31.0)\n",
      "Collecting tokenizers<0.16,>=0.15 (from fastembed)\n",
      "  Using cached tokenizers-0.15.2-cp311-none-win_amd64.whl (2.2 MB)\n",
      "Requirement already satisfied: tqdm<5.0,>=4.66 in c:\\users\\siraj\\documents\\personal\\work\\aurelio\\virtual environments\\semantic_router_3\\lib\\site-packages (from fastembed) (4.66.2)\n",
      "Collecting filelock (from huggingface-hub<0.21,>=0.20->fastembed)\n",
      "  Downloading filelock-3.14.0-py3-none-any.whl (12 kB)\n",
      "Collecting fsspec>=2023.5.0 (from huggingface-hub<0.21,>=0.20->fastembed)\n",
      "  Using cached fsspec-2024.3.1-py3-none-any.whl (171 kB)\n",
      "Requirement already satisfied: pyyaml>=5.1 in c:\\users\\siraj\\documents\\personal\\work\\aurelio\\virtual environments\\semantic_router_3\\lib\\site-packages (from huggingface-hub<0.21,>=0.20->fastembed) (6.0.1)\n",
      "Requirement already satisfied: typing-extensions>=3.7.4.3 in c:\\users\\siraj\\documents\\personal\\work\\aurelio\\virtual environments\\semantic_router_3\\lib\\site-packages (from huggingface-hub<0.21,>=0.20->fastembed) (4.11.0)\n",
      "Requirement already satisfied: packaging>=20.9 in c:\\users\\siraj\\documents\\personal\\work\\aurelio\\virtual environments\\semantic_router_3\\lib\\site-packages (from huggingface-hub<0.21,>=0.20->fastembed) (23.2)\n",
      "Requirement already satisfied: colorama>=0.3.4 in c:\\users\\siraj\\documents\\personal\\work\\aurelio\\virtual environments\\semantic_router_3\\lib\\site-packages (from loguru<0.8.0,>=0.7.2->fastembed) (0.4.6)\n",
      "Collecting win32-setctime>=1.0.0 (from loguru<0.8.0,>=0.7.2->fastembed)\n",
      "  Using cached win32_setctime-1.1.0-py3-none-any.whl (3.6 kB)\n",
      "Collecting protobuf>=3.20.2 (from onnx<2.0.0,>=1.15.0->fastembed)\n",
      "  Using cached protobuf-5.26.1-cp310-abi3-win_amd64.whl (420 kB)\n",
      "Collecting coloredlogs (from onnxruntime<2.0.0,>=1.17.0->fastembed)\n",
      "  Using cached coloredlogs-15.0.1-py2.py3-none-any.whl (46 kB)\n",
      "Collecting flatbuffers (from onnxruntime<2.0.0,>=1.17.0->fastembed)\n",
      "  Downloading flatbuffers-24.3.25-py2.py3-none-any.whl (26 kB)\n",
      "Collecting sympy (from onnxruntime<2.0.0,>=1.17.0->fastembed)\n",
      "  Using cached sympy-1.12-py3-none-any.whl (5.7 MB)\n",
      "Requirement already satisfied: charset-normalizer<4,>=2 in c:\\users\\siraj\\documents\\personal\\work\\aurelio\\virtual environments\\semantic_router_3\\lib\\site-packages (from requests<3.0,>=2.31->fastembed) (3.3.2)\n",
      "Requirement already satisfied: idna<4,>=2.5 in c:\\users\\siraj\\documents\\personal\\work\\aurelio\\virtual environments\\semantic_router_3\\lib\\site-packages (from requests<3.0,>=2.31->fastembed) (3.7)\n",
      "Requirement already satisfied: urllib3<3,>=1.21.1 in c:\\users\\siraj\\documents\\personal\\work\\aurelio\\virtual environments\\semantic_router_3\\lib\\site-packages (from requests<3.0,>=2.31->fastembed) (2.2.1)\n",
      "Requirement already satisfied: certifi>=2017.4.17 in c:\\users\\siraj\\documents\\personal\\work\\aurelio\\virtual environments\\semantic_router_3\\lib\\site-packages (from requests<3.0,>=2.31->fastembed) (2024.2.2)\n",
      "Collecting humanfriendly>=9.1 (from coloredlogs->onnxruntime<2.0.0,>=1.17.0->fastembed)\n",
      "  Using cached humanfriendly-10.0-py2.py3-none-any.whl (86 kB)\n",
      "Collecting mpmath>=0.19 (from sympy->onnxruntime<2.0.0,>=1.17.0->fastembed)\n",
      "  Using cached mpmath-1.3.0-py3-none-any.whl (536 kB)\n",
      "Collecting pyreadline3 (from humanfriendly>=9.1->coloredlogs->onnxruntime<2.0.0,>=1.17.0->fastembed)\n",
      "  Using cached pyreadline3-3.4.1-py3-none-any.whl (95 kB)\n",
      "Installing collected packages: pyreadline3, mpmath, flatbuffers, win32-setctime, sympy, protobuf, humanfriendly, fsspec, filelock, onnx, loguru, huggingface-hub, coloredlogs, tokenizers, onnxruntime, fastembed\n",
      "Successfully installed coloredlogs-15.0.1 fastembed-0.2.7 filelock-3.14.0 flatbuffers-24.3.25 fsspec-2024.3.1 huggingface-hub-0.20.3 humanfriendly-10.0 loguru-0.7.2 mpmath-1.3.0 onnx-1.16.0 onnxruntime-1.17.3 protobuf-5.26.1 pyreadline3-3.4.1 sympy-1.12 tokenizers-0.15.2 win32-setctime-1.1.0\n"
     ]
    },
    {
     "name": "stderr",
     "output_type": "stream",
     "text": [
      "\n",
      "[notice] A new release of pip is available: 23.1.2 -> 24.0\n",
      "[notice] To update, run: python.exe -m pip install --upgrade pip\n"
     ]
    }
   ],
   "source": [
    "!pip install fastembed"
   ]
  },
  {
   "cell_type": "markdown",
   "metadata": {},
   "source": [
    "# Considering Chat History"
   ]
  },
  {
   "cell_type": "markdown",
   "metadata": {},
   "source": [
    "Applying semantic-router to the most recent interaction in a conversation can work for many cases but it misses scenarios where information provided in the latest interaction."
   ]
  },
  {
   "cell_type": "code",
   "execution_count": 2,
   "metadata": {},
   "outputs": [
    {
     "name": "stderr",
     "output_type": "stream",
     "text": [
      "c:\\Users\\Siraj\\Documents\\Personal\\Work\\Aurelio\\Virtual Environments\\semantic_router_3\\Lib\\site-packages\\tqdm\\auto.py:21: TqdmWarning: IProgress not found. Please update jupyter and ipywidgets. See https://ipywidgets.readthedocs.io/en/stable/user_install.html\n",
      "  from .autonotebook import tqdm as notebook_tqdm\n",
      "\u001b[32m2024-05-04 01:24:46.195\u001b[0m | \u001b[33m\u001b[1mWARNING \u001b[0m | \u001b[36mfastembed.embedding\u001b[0m:\u001b[36m<module>\u001b[0m:\u001b[36m7\u001b[0m - \u001b[33m\u001b[1mDefaultEmbedding, FlagEmbedding, JinaEmbedding are deprecated.Use from fastembed import TextEmbedding instead.\u001b[0m\n",
      "tokenizer.json: 100%|██████████| 711k/711k [00:00<00:00, 1.82MB/s]\n",
      "special_tokens_map.json: 100%|██████████| 695/695 [00:00<?, ?B/s] \n",
      "config.json: 100%|██████████| 706/706 [00:00<00:00, 695kB/s]\n",
      "Fetching 5 files:  20%|██        | 1/5 [00:01<00:05,  1.48s/it]\n",
      "tokenizer_config.json: 100%|██████████| 1.24k/1.24k [00:00<?, ?B/s]\n",
      "model_optimized.onnx: 100%|██████████| 66.5M/66.5M [00:01<00:00, 39.0MB/s]\n",
      "Fetching 5 files: 100%|██████████| 5/5 [00:03<00:00,  1.54it/s]\n"
     ]
    },
    {
     "data": {
      "text/plain": [
       "[DocumentSplit(docs=['User: Hello! Can you tell me the latest news headlines?', 'Bot: Hi! Sure, here are the top news headlines for today...'], is_triggered=True, triggered_score=0.6881566496849609),\n",
       " DocumentSplit(docs=[\"User: That's quite interesting. I'm also looking for some new music to listen to.\"], is_triggered=True, triggered_score=0.6483805726099723),\n",
       " DocumentSplit(docs=['Bot: What genre do you prefer?'], is_triggered=True, triggered_score=0.6016203292938812),\n",
       " DocumentSplit(docs=['User: I like pop music.'], is_triggered=True, triggered_score=0.681239312154468),\n",
       " DocumentSplit(docs=['Bot: You might enjoy the latest album by Dua Lipa.'], is_triggered=True, triggered_score=0.6766231070914372),\n",
       " DocumentSplit(docs=[\"User: I'll give it a listen. Also, I'm planning a trip and need some travel tips.\", 'Bot: Sure, where are you planning to go?', \"User: I'm thinking of visiting Italy.\", 'Bot: Italy is a beautiful country. Make sure to visit the Colosseum in Rome and the canals in Venice.'], is_triggered=True, triggered_score=0.6772425275909593),\n",
       " DocumentSplit(docs=['User: Those sound like great suggestions. I also need some help with my diet.', 'Bot: What kind of diet are you following?', \"User: I'm trying to eat more protein.\", 'Bot: Include lean meats, eggs, and legumes in your diet for a protein boost.'], is_triggered=True, triggered_score=0.613774528067004),\n",
       " DocumentSplit(docs=[\"User: Thanks for the tips! I'll talk to you later.\", \"Bot: You're welcome! Don't hesitate to reach out if you need more help.\", 'User: I appreciate it. Goodbye!', 'Bot: Goodbye! Take care!'], is_triggered=False, triggered_score=None)]"
      ]
     },
     "execution_count": 2,
     "metadata": {},
     "output_type": "execute_result"
    }
   ],
   "source": [
    "from semantic_router.schema import Conversation, Message\n",
    "from semantic_router.encoders import FastEmbedEncoder\n",
    "\n",
    "\n",
    "messages = [\n",
    "    \"User: Hello! Can you tell me the latest news headlines?\",\n",
    "    \"Bot: Hi! Sure, here are the top news headlines for today...\",\n",
    "    \"User: That's quite interesting. I'm also looking for some new music to listen to.\",\n",
    "    \"Bot: What genre do you prefer?\",\n",
    "    \"User: I like pop music.\",\n",
    "    \"Bot: You might enjoy the latest album by Dua Lipa.\",\n",
    "    \"User: I'll give it a listen. Also, I'm planning a trip and need some travel tips.\",\n",
    "    \"Bot: Sure, where are you planning to go?\",\n",
    "    \"User: I'm thinking of visiting Italy.\",\n",
    "    \"Bot: Italy is a beautiful country. Make sure to visit the Colosseum in Rome and the canals in Venice.\",\n",
    "    \"User: Those sound like great suggestions. I also need some help with my diet.\",\n",
    "    \"Bot: What kind of diet are you following?\",\n",
    "    \"User: I'm trying to eat more protein.\",\n",
    "    \"Bot: Include lean meats, eggs, and legumes in your diet for a protein boost.\",\n",
    "    \"User: Thanks for the tips! I'll talk to you later.\",\n",
    "    \"Bot: You're welcome! Don't hesitate to reach out if you need more help.\",\n",
    "    \"User: I appreciate it. Goodbye!\",\n",
    "    \"Bot: Goodbye! Take care!\",\n",
    "]\n",
    "\n",
    "encoder = FastEmbedEncoder(model_name=\"sentence-transformers/all-MiniLM-L6-v2\")\n",
    "\n",
    "convo = Conversation(\n",
    "    messages=[\n",
    "        Message(role=m.split(\": \")[0], content=m.split(\": \")[1]) for m in messages\n",
    "    ]\n",
    ")\n",
    "\n",
    "convo.split_by_topic(\n",
    "    encoder=encoder, threshold=0.72, split_method=\"cumulative_similarity_drop\"\n",
    ")"
   ]
  },
  {
   "cell_type": "code",
   "execution_count": null,
   "metadata": {},
   "outputs": [],
   "source": []
  }
 ],
 "metadata": {
  "kernelspec": {
   "display_name": "ml",
   "language": "python",
   "name": "python3"
  },
  "language_info": {
   "codemirror_mode": {
    "name": "ipython",
    "version": 3
   },
   "file_extension": ".py",
   "mimetype": "text/x-python",
   "name": "python",
   "nbconvert_exporter": "python",
   "pygments_lexer": "ipython3",
   "version": "3.11.4"
  }
 },
 "nbformat": 4,
 "nbformat_minor": 2
}
