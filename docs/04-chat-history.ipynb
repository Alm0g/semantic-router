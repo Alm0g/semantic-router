{
 "cells": [
  {
   "cell_type": "markdown",
   "metadata": {},
   "source": [
    "[![Open In Colab](https://colab.research.google.com/assets/colab-badge.svg)](https://colab.research.google.com/github/aurelio-labs/semantic-router/blob/main/docs/00-introduction.ipynb) [![Open nbviewer](https://raw.githubusercontent.com/pinecone-io/examples/master/assets/nbviewer-shield.svg)](https://nbviewer.org/github/aurelio-labs/semantic-router/blob/main/docs/00-introduction.ipynb)"
   ]
  },
  {
   "cell_type": "markdown",
   "metadata": {},
   "source": [
    "## Install Prerequisites"
   ]
  },
  {
   "cell_type": "code",
   "execution_count": 1,
   "metadata": {},
   "outputs": [
    {
     "name": "stdout",
     "output_type": "stream",
     "text": [
      "Requirement already satisfied: fastembed in c:\\users\\siraj\\documents\\personal\\work\\aurelio\\virtual environments\\semantic_router_3\\lib\\site-packages (0.2.7)\n",
      "Requirement already satisfied: huggingface-hub<0.21,>=0.20 in c:\\users\\siraj\\documents\\personal\\work\\aurelio\\virtual environments\\semantic_router_3\\lib\\site-packages (from fastembed) (0.20.3)\n",
      "Requirement already satisfied: loguru<0.8.0,>=0.7.2 in c:\\users\\siraj\\documents\\personal\\work\\aurelio\\virtual environments\\semantic_router_3\\lib\\site-packages (from fastembed) (0.7.2)\n",
      "Requirement already satisfied: numpy>=1.21 in c:\\users\\siraj\\documents\\personal\\work\\aurelio\\virtual environments\\semantic_router_3\\lib\\site-packages (from fastembed) (1.26.4)\n",
      "Requirement already satisfied: onnx<2.0.0,>=1.15.0 in c:\\users\\siraj\\documents\\personal\\work\\aurelio\\virtual environments\\semantic_router_3\\lib\\site-packages (from fastembed) (1.16.0)\n",
      "Requirement already satisfied: onnxruntime<2.0.0,>=1.17.0 in c:\\users\\siraj\\documents\\personal\\work\\aurelio\\virtual environments\\semantic_router_3\\lib\\site-packages (from fastembed) (1.17.3)\n",
      "Requirement already satisfied: requests<3.0,>=2.31 in c:\\users\\siraj\\documents\\personal\\work\\aurelio\\virtual environments\\semantic_router_3\\lib\\site-packages (from fastembed) (2.31.0)\n",
      "Requirement already satisfied: tokenizers<0.16,>=0.15 in c:\\users\\siraj\\documents\\personal\\work\\aurelio\\virtual environments\\semantic_router_3\\lib\\site-packages (from fastembed) (0.15.2)\n",
      "Requirement already satisfied: tqdm<5.0,>=4.66 in c:\\users\\siraj\\documents\\personal\\work\\aurelio\\virtual environments\\semantic_router_3\\lib\\site-packages (from fastembed) (4.66.2)\n",
      "Requirement already satisfied: filelock in c:\\users\\siraj\\documents\\personal\\work\\aurelio\\virtual environments\\semantic_router_3\\lib\\site-packages (from huggingface-hub<0.21,>=0.20->fastembed) (3.14.0)\n",
      "Requirement already satisfied: fsspec>=2023.5.0 in c:\\users\\siraj\\documents\\personal\\work\\aurelio\\virtual environments\\semantic_router_3\\lib\\site-packages (from huggingface-hub<0.21,>=0.20->fastembed) (2024.3.1)\n",
      "Requirement already satisfied: pyyaml>=5.1 in c:\\users\\siraj\\documents\\personal\\work\\aurelio\\virtual environments\\semantic_router_3\\lib\\site-packages (from huggingface-hub<0.21,>=0.20->fastembed) (6.0.1)\n",
      "Requirement already satisfied: typing-extensions>=3.7.4.3 in c:\\users\\siraj\\documents\\personal\\work\\aurelio\\virtual environments\\semantic_router_3\\lib\\site-packages (from huggingface-hub<0.21,>=0.20->fastembed) (4.11.0)\n",
      "Requirement already satisfied: packaging>=20.9 in c:\\users\\siraj\\documents\\personal\\work\\aurelio\\virtual environments\\semantic_router_3\\lib\\site-packages (from huggingface-hub<0.21,>=0.20->fastembed) (24.0)\n",
      "Requirement already satisfied: colorama>=0.3.4 in c:\\users\\siraj\\documents\\personal\\work\\aurelio\\virtual environments\\semantic_router_3\\lib\\site-packages (from loguru<0.8.0,>=0.7.2->fastembed) (0.4.6)\n",
      "Requirement already satisfied: win32-setctime>=1.0.0 in c:\\users\\siraj\\documents\\personal\\work\\aurelio\\virtual environments\\semantic_router_3\\lib\\site-packages (from loguru<0.8.0,>=0.7.2->fastembed) (1.1.0)\n",
      "Requirement already satisfied: protobuf>=3.20.2 in c:\\users\\siraj\\documents\\personal\\work\\aurelio\\virtual environments\\semantic_router_3\\lib\\site-packages (from onnx<2.0.0,>=1.15.0->fastembed) (5.26.1)\n",
      "Requirement already satisfied: coloredlogs in c:\\users\\siraj\\documents\\personal\\work\\aurelio\\virtual environments\\semantic_router_3\\lib\\site-packages (from onnxruntime<2.0.0,>=1.17.0->fastembed) (15.0.1)\n",
      "Requirement already satisfied: flatbuffers in c:\\users\\siraj\\documents\\personal\\work\\aurelio\\virtual environments\\semantic_router_3\\lib\\site-packages (from onnxruntime<2.0.0,>=1.17.0->fastembed) (24.3.25)\n",
      "Requirement already satisfied: sympy in c:\\users\\siraj\\documents\\personal\\work\\aurelio\\virtual environments\\semantic_router_3\\lib\\site-packages (from onnxruntime<2.0.0,>=1.17.0->fastembed) (1.12)\n",
      "Requirement already satisfied: charset-normalizer<4,>=2 in c:\\users\\siraj\\documents\\personal\\work\\aurelio\\virtual environments\\semantic_router_3\\lib\\site-packages (from requests<3.0,>=2.31->fastembed) (3.3.2)\n",
      "Requirement already satisfied: idna<4,>=2.5 in c:\\users\\siraj\\documents\\personal\\work\\aurelio\\virtual environments\\semantic_router_3\\lib\\site-packages (from requests<3.0,>=2.31->fastembed) (3.7)\n",
      "Requirement already satisfied: urllib3<3,>=1.21.1 in c:\\users\\siraj\\documents\\personal\\work\\aurelio\\virtual environments\\semantic_router_3\\lib\\site-packages (from requests<3.0,>=2.31->fastembed) (2.2.1)\n",
      "Requirement already satisfied: certifi>=2017.4.17 in c:\\users\\siraj\\documents\\personal\\work\\aurelio\\virtual environments\\semantic_router_3\\lib\\site-packages (from requests<3.0,>=2.31->fastembed) (2024.2.2)\n",
      "Requirement already satisfied: humanfriendly>=9.1 in c:\\users\\siraj\\documents\\personal\\work\\aurelio\\virtual environments\\semantic_router_3\\lib\\site-packages (from coloredlogs->onnxruntime<2.0.0,>=1.17.0->fastembed) (10.0)\n",
      "Requirement already satisfied: mpmath>=0.19 in c:\\users\\siraj\\documents\\personal\\work\\aurelio\\virtual environments\\semantic_router_3\\lib\\site-packages (from sympy->onnxruntime<2.0.0,>=1.17.0->fastembed) (1.3.0)\n",
      "Requirement already satisfied: pyreadline3 in c:\\users\\siraj\\documents\\personal\\work\\aurelio\\virtual environments\\semantic_router_3\\lib\\site-packages (from humanfriendly>=9.1->coloredlogs->onnxruntime<2.0.0,>=1.17.0->fastembed) (3.4.1)\n"
     ]
    },
    {
     "name": "stderr",
     "output_type": "stream",
     "text": [
      "WARNING: Ignoring invalid distribution ~illow (C:\\Users\\Siraj\\Documents\\Personal\\Work\\Aurelio\\Virtual Environments\\semantic_router_3\\Lib\\site-packages)\n",
      "WARNING: Ignoring invalid distribution ~illow (C:\\Users\\Siraj\\Documents\\Personal\\Work\\Aurelio\\Virtual Environments\\semantic_router_3\\Lib\\site-packages)\n",
      "WARNING: Ignoring invalid distribution ~illow (C:\\Users\\Siraj\\Documents\\Personal\\Work\\Aurelio\\Virtual Environments\\semantic_router_3\\Lib\\site-packages)\n",
      "WARNING: Ignoring invalid distribution ~illow (C:\\Users\\Siraj\\Documents\\Personal\\Work\\Aurelio\\Virtual Environments\\semantic_router_3\\Lib\\site-packages)\n",
      "\n",
      "[notice] A new release of pip is available: 23.1.2 -> 24.0\n",
      "[notice] To update, run: python.exe -m pip install --upgrade pip\n"
     ]
    }
   ],
   "source": [
    "!pip install fastembed"
   ]
  },
  {
   "cell_type": "markdown",
   "metadata": {},
   "source": [
    "# Considering Chat History"
   ]
  },
  {
   "cell_type": "markdown",
   "metadata": {},
   "source": [
    "Applying semantic-router to the most recent interaction in a conversation can work for many cases but it misses scenarios where information provided in the latest interaction."
   ]
  },
  {
   "cell_type": "code",
   "execution_count": 5,
   "metadata": {},
   "outputs": [
    {
     "name": "stderr",
     "output_type": "stream",
     "text": [
      "Fetching 5 files: 100%|██████████| 5/5 [00:00<?, ?it/s]\n"
     ]
    },
    {
     "data": {
      "text/plain": [
       "([(1, 'User: Hello! Can you tell me the latest news headlines?'),\n",
       "  (1, 'Bot: Hi! Sure, here are the top news headlines for today...'),\n",
       "  (2,\n",
       "   \"User: That's quite interesting. I'm also looking for some new music to listen to.\"),\n",
       "  (3, 'Bot: What genre do you prefer?'),\n",
       "  (4, 'User: I like pop music.'),\n",
       "  (5, 'Bot: You might enjoy the latest album by Dua Lipa.'),\n",
       "  (6,\n",
       "   \"User: I'll give it a listen. Also, I'm planning a trip and need some travel tips.\"),\n",
       "  (6, 'Bot: Sure, where are you planning to go?'),\n",
       "  (6, \"User: I'm thinking of visiting Italy.\"),\n",
       "  (6,\n",
       "   'Bot: Italy is a beautiful country. Make sure to visit the Colosseum in Rome and the canals in Venice.'),\n",
       "  (7,\n",
       "   'User: Those sound like great suggestions. I also need some help with my diet.'),\n",
       "  (7, 'Bot: What kind of diet are you following?'),\n",
       "  (7, \"User: I'm trying to eat more protein.\"),\n",
       "  (7,\n",
       "   'Bot: Include lean meats, eggs, and legumes in your diet for a protein boost.'),\n",
       "  (8, \"User: Thanks for the tips! I'll talk to you later.\"),\n",
       "  (8,\n",
       "   \"Bot: You're welcome! Don't hesitate to reach out if you need more help.\"),\n",
       "  (8, 'User: I appreciate it. Goodbye!'),\n",
       "  (8, 'Bot: Goodbye! Take care!')],\n",
       " [DocumentSplit(docs=['User: Hello! Can you tell me the latest news headlines?', 'Bot: Hi! Sure, here are the top news headlines for today...'], is_triggered=True, triggered_score=0.6881566496849609, token_count=None, metadata=None),\n",
       "  DocumentSplit(docs=[\"User: That's quite interesting. I'm also looking for some new music to listen to.\"], is_triggered=True, triggered_score=0.6483805726099723, token_count=None, metadata=None),\n",
       "  DocumentSplit(docs=['Bot: What genre do you prefer?'], is_triggered=True, triggered_score=0.6016203292938812, token_count=None, metadata=None),\n",
       "  DocumentSplit(docs=['User: I like pop music.'], is_triggered=True, triggered_score=0.681239312154468, token_count=None, metadata=None),\n",
       "  DocumentSplit(docs=['Bot: You might enjoy the latest album by Dua Lipa.'], is_triggered=True, triggered_score=0.6766231070914372, token_count=None, metadata=None),\n",
       "  DocumentSplit(docs=[\"User: I'll give it a listen. Also, I'm planning a trip and need some travel tips.\", 'Bot: Sure, where are you planning to go?', \"User: I'm thinking of visiting Italy.\", 'Bot: Italy is a beautiful country. Make sure to visit the Colosseum in Rome and the canals in Venice.'], is_triggered=True, triggered_score=0.6772425275909593, token_count=None, metadata=None),\n",
       "  DocumentSplit(docs=['User: Those sound like great suggestions. I also need some help with my diet.', 'Bot: What kind of diet are you following?', \"User: I'm trying to eat more protein.\", 'Bot: Include lean meats, eggs, and legumes in your diet for a protein boost.'], is_triggered=True, triggered_score=0.613774528067004, token_count=None, metadata=None),\n",
       "  DocumentSplit(docs=[\"User: Thanks for the tips! I'll talk to you later.\", \"Bot: You're welcome! Don't hesitate to reach out if you need more help.\", 'User: I appreciate it. Goodbye!', 'Bot: Goodbye! Take care!'], is_triggered=False, triggered_score=None, token_count=None, metadata=None)])"
      ]
     },
     "execution_count": 5,
     "metadata": {},
     "output_type": "execute_result"
    }
   ],
   "source": [
    "from semantic_router.schema import Message\n",
    "from semantic_router.encoders import FastEmbedEncoder\n",
    "from semantic_router.text import Conversation\n",
    "\n",
    "\n",
    "messages = [\n",
    "    \"User: Hello! Can you tell me the latest news headlines?\",\n",
    "    \"Bot: Hi! Sure, here are the top news headlines for today...\",\n",
    "    \"User: That's quite interesting. I'm also looking for some new music to listen to.\",\n",
    "    \"Bot: What genre do you prefer?\",\n",
    "    \"User: I like pop music.\",\n",
    "    \"Bot: You might enjoy the latest album by Dua Lipa.\",\n",
    "    \"User: I'll give it a listen. Also, I'm planning a trip and need some travel tips.\",\n",
    "    \"Bot: Sure, where are you planning to go?\",\n",
    "    \"User: I'm thinking of visiting Italy.\",\n",
    "    \"Bot: Italy is a beautiful country. Make sure to visit the Colosseum in Rome and the canals in Venice.\",\n",
    "    \"User: Those sound like great suggestions. I also need some help with my diet.\",\n",
    "    \"Bot: What kind of diet are you following?\",\n",
    "    \"User: I'm trying to eat more protein.\",\n",
    "    \"Bot: Include lean meats, eggs, and legumes in your diet for a protein boost.\",\n",
    "    \"User: Thanks for the tips! I'll talk to you later.\",\n",
    "    \"Bot: You're welcome! Don't hesitate to reach out if you need more help.\",\n",
    "    \"User: I appreciate it. Goodbye!\",\n",
    "    \"Bot: Goodbye! Take care!\",\n",
    "]\n",
    "\n",
    "encoder = FastEmbedEncoder(model_name=\"sentence-transformers/all-MiniLM-L6-v2\")\n",
    "\n",
    "convo = Conversation(\n",
    "    messages=[\n",
    "        Message(role=m.split(\": \")[0], content=m.split(\": \")[1]) for m in messages\n",
    "    ]\n",
    ")\n",
    "\n",
    "convo.configure_splitter(\n",
    "    encoder=encoder, threshold=0.72, split_method=\"cumulative_similarity\"\n",
    ")\n",
    "\n",
    "convo.split_by_topic()"
   ]
  },
  {
   "cell_type": "code",
   "execution_count": null,
   "metadata": {},
   "outputs": [],
   "source": []
  }
 ],
 "metadata": {
  "kernelspec": {
   "display_name": "ml",
   "language": "python",
   "name": "python3"
  },
  "language_info": {
   "codemirror_mode": {
    "name": "ipython",
    "version": 3
   },
   "file_extension": ".py",
   "mimetype": "text/x-python",
   "name": "python",
   "nbconvert_exporter": "python",
   "pygments_lexer": "ipython3",
   "version": "3.11.4"
  }
 },
 "nbformat": 4,
 "nbformat_minor": 2
}
